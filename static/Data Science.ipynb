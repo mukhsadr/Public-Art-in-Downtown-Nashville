{
 "cells": [
  {
   "cell_type": "code",
   "execution_count": 8,
   "id": "5e6a52df",
   "metadata": {},
   "outputs": [],
   "source": [
    "import pandas as pd"
   ]
  },
  {
   "cell_type": "code",
   "execution_count": 9,
   "id": "b03e6e47",
   "metadata": {},
   "outputs": [],
   "source": [
    "df = pd.read_csv(\"read_csv.csv\")"
   ]
  },
  {
   "cell_type": "code",
   "execution_count": 10,
   "id": "c19e4368",
   "metadata": {},
   "outputs": [
    {
     "name": "stdout",
     "output_type": "stream",
     "text": [
      "['Title', 'Last Name', 'First Name', 'Location', 'Medium', 'Type', 'Description', 'Latitude', 'Longitude', 'Mapped Location']\n"
     ]
    }
   ],
   "source": [
    "column_names = df.columns.tolist()\n",
    "print(column_names)"
   ]
  },
  {
   "cell_type": "code",
   "execution_count": 11,
   "id": "142b1704",
   "metadata": {},
   "outputs": [
    {
     "data": {
      "text/html": [
       "<div>\n",
       "<style scoped>\n",
       "    .dataframe tbody tr th:only-of-type {\n",
       "        vertical-align: middle;\n",
       "    }\n",
       "\n",
       "    .dataframe tbody tr th {\n",
       "        vertical-align: top;\n",
       "    }\n",
       "\n",
       "    .dataframe thead th {\n",
       "        text-align: right;\n",
       "    }\n",
       "</style>\n",
       "<table border=\"1\" class=\"dataframe\">\n",
       "  <thead>\n",
       "    <tr style=\"text-align: right;\">\n",
       "      <th></th>\n",
       "      <th>Title</th>\n",
       "      <th>Last Name</th>\n",
       "      <th>First Name</th>\n",
       "      <th>Location</th>\n",
       "      <th>Medium</th>\n",
       "      <th>Type</th>\n",
       "      <th>Description</th>\n",
       "      <th>Latitude</th>\n",
       "      <th>Longitude</th>\n",
       "      <th>Mapped Location</th>\n",
       "    </tr>\n",
       "  </thead>\n",
       "  <tbody>\n",
       "    <tr>\n",
       "      <th>0</th>\n",
       "      <td>[Cross Country Runners]</td>\n",
       "      <td>Frost</td>\n",
       "      <td>Miley</td>\n",
       "      <td>4001 Harding Rd., Nashville TN</td>\n",
       "      <td>Bronze</td>\n",
       "      <td>Sculpture</td>\n",
       "      <td>NaN</td>\n",
       "      <td>36.12856</td>\n",
       "      <td>-86.83660</td>\n",
       "      <td>(36.12856, -86.8366)</td>\n",
       "    </tr>\n",
       "    <tr>\n",
       "      <th>1</th>\n",
       "      <td>[Fourth and Commerce Sculpture]</td>\n",
       "      <td>Walker</td>\n",
       "      <td>Lin</td>\n",
       "      <td>333 Commerce Street, Nashville TN</td>\n",
       "      <td>NaN</td>\n",
       "      <td>Sculpture</td>\n",
       "      <td>NaN</td>\n",
       "      <td>36.16234</td>\n",
       "      <td>-86.77774</td>\n",
       "      <td>(36.16234, -86.77774)</td>\n",
       "    </tr>\n",
       "    <tr>\n",
       "      <th>2</th>\n",
       "      <td>12th &amp; Porter Mural</td>\n",
       "      <td>Kennedy</td>\n",
       "      <td>Kim</td>\n",
       "      <td>114 12th Avenue N</td>\n",
       "      <td>Porter all-weather outdoor paint</td>\n",
       "      <td>Mural</td>\n",
       "      <td>Kim Kennedy is a musician and visual artist wh...</td>\n",
       "      <td>36.15790</td>\n",
       "      <td>-86.78817</td>\n",
       "      <td>(36.1579, -86.78817)</td>\n",
       "    </tr>\n",
       "    <tr>\n",
       "      <th>3</th>\n",
       "      <td>A Splash of Color</td>\n",
       "      <td>Stevenson and Stanley and ROFF (Harroff)</td>\n",
       "      <td>Doug and Ronnica and Lynn</td>\n",
       "      <td>616 17th Ave. N.</td>\n",
       "      <td>Steel, brick, wood, and fabric on frostproof c...</td>\n",
       "      <td>Mural</td>\n",
       "      <td>Painted wooden hoop dancer on a twenty foot po...</td>\n",
       "      <td>36.16202</td>\n",
       "      <td>-86.79975</td>\n",
       "      <td>(36.16202, -86.79975)</td>\n",
       "    </tr>\n",
       "    <tr>\n",
       "      <th>4</th>\n",
       "      <td>A Story of Nashville</td>\n",
       "      <td>Ridley</td>\n",
       "      <td>Greg</td>\n",
       "      <td>615 Church Street, Nashville TN</td>\n",
       "      <td>Hammered copper repousse</td>\n",
       "      <td>Frieze</td>\n",
       "      <td>Inside the Grand Reading Room, this is a serie...</td>\n",
       "      <td>36.16215</td>\n",
       "      <td>-86.78205</td>\n",
       "      <td>(36.16215, -86.78205)</td>\n",
       "    </tr>\n",
       "  </tbody>\n",
       "</table>\n",
       "</div>"
      ],
      "text/plain": [
       "                             Title                                 Last Name  \\\n",
       "0          [Cross Country Runners]                                     Frost   \n",
       "1  [Fourth and Commerce Sculpture]                                    Walker   \n",
       "2              12th & Porter Mural                                   Kennedy   \n",
       "3                A Splash of Color  Stevenson and Stanley and ROFF (Harroff)   \n",
       "4             A Story of Nashville                                    Ridley   \n",
       "\n",
       "                  First Name                           Location  \\\n",
       "0                      Miley     4001 Harding Rd., Nashville TN   \n",
       "1                        Lin  333 Commerce Street, Nashville TN   \n",
       "2                        Kim                  114 12th Avenue N   \n",
       "3  Doug and Ronnica and Lynn                   616 17th Ave. N.   \n",
       "4                       Greg    615 Church Street, Nashville TN   \n",
       "\n",
       "                                              Medium       Type  \\\n",
       "0                                             Bronze  Sculpture   \n",
       "1                                                NaN  Sculpture   \n",
       "2                   Porter all-weather outdoor paint      Mural   \n",
       "3  Steel, brick, wood, and fabric on frostproof c...      Mural   \n",
       "4                           Hammered copper repousse     Frieze   \n",
       "\n",
       "                                         Description  Latitude  Longitude  \\\n",
       "0                                                NaN  36.12856  -86.83660   \n",
       "1                                                NaN  36.16234  -86.77774   \n",
       "2  Kim Kennedy is a musician and visual artist wh...  36.15790  -86.78817   \n",
       "3  Painted wooden hoop dancer on a twenty foot po...  36.16202  -86.79975   \n",
       "4  Inside the Grand Reading Room, this is a serie...  36.16215  -86.78205   \n",
       "\n",
       "         Mapped Location  \n",
       "0   (36.12856, -86.8366)  \n",
       "1  (36.16234, -86.77774)  \n",
       "2   (36.1579, -86.78817)  \n",
       "3  (36.16202, -86.79975)  \n",
       "4  (36.16215, -86.78205)  "
      ]
     },
     "execution_count": 11,
     "metadata": {},
     "output_type": "execute_result"
    }
   ],
   "source": [
    "df.head()"
   ]
  },
  {
   "cell_type": "code",
   "execution_count": 12,
   "id": "554c5015",
   "metadata": {},
   "outputs": [
    {
     "data": {
      "text/html": [
       "<div>\n",
       "<style scoped>\n",
       "    .dataframe tbody tr th:only-of-type {\n",
       "        vertical-align: middle;\n",
       "    }\n",
       "\n",
       "    .dataframe tbody tr th {\n",
       "        vertical-align: top;\n",
       "    }\n",
       "\n",
       "    .dataframe thead th {\n",
       "        text-align: right;\n",
       "    }\n",
       "</style>\n",
       "<table border=\"1\" class=\"dataframe\">\n",
       "  <thead>\n",
       "    <tr style=\"text-align: right;\">\n",
       "      <th></th>\n",
       "      <th>Latitude</th>\n",
       "      <th>Longitude</th>\n",
       "    </tr>\n",
       "  </thead>\n",
       "  <tbody>\n",
       "    <tr>\n",
       "      <th>count</th>\n",
       "      <td>132.000000</td>\n",
       "      <td>132.000000</td>\n",
       "    </tr>\n",
       "    <tr>\n",
       "      <th>mean</th>\n",
       "      <td>36.152814</td>\n",
       "      <td>-86.779279</td>\n",
       "    </tr>\n",
       "    <tr>\n",
       "      <th>std</th>\n",
       "      <td>0.019243</td>\n",
       "      <td>0.040174</td>\n",
       "    </tr>\n",
       "    <tr>\n",
       "      <th>min</th>\n",
       "      <td>36.090820</td>\n",
       "      <td>-86.869700</td>\n",
       "    </tr>\n",
       "    <tr>\n",
       "      <th>25%</th>\n",
       "      <td>36.142043</td>\n",
       "      <td>-86.797650</td>\n",
       "    </tr>\n",
       "    <tr>\n",
       "      <th>50%</th>\n",
       "      <td>36.157631</td>\n",
       "      <td>-86.782820</td>\n",
       "    </tr>\n",
       "    <tr>\n",
       "      <th>75%</th>\n",
       "      <td>36.164793</td>\n",
       "      <td>-86.773570</td>\n",
       "    </tr>\n",
       "    <tr>\n",
       "      <th>max</th>\n",
       "      <td>36.204610</td>\n",
       "      <td>-86.615640</td>\n",
       "    </tr>\n",
       "  </tbody>\n",
       "</table>\n",
       "</div>"
      ],
      "text/plain": [
       "         Latitude   Longitude\n",
       "count  132.000000  132.000000\n",
       "mean    36.152814  -86.779279\n",
       "std      0.019243    0.040174\n",
       "min     36.090820  -86.869700\n",
       "25%     36.142043  -86.797650\n",
       "50%     36.157631  -86.782820\n",
       "75%     36.164793  -86.773570\n",
       "max     36.204610  -86.615640"
      ]
     },
     "execution_count": 12,
     "metadata": {},
     "output_type": "execute_result"
    }
   ],
   "source": [
    "df.describe()"
   ]
  },
  {
   "cell_type": "code",
   "execution_count": 13,
   "id": "508be81d",
   "metadata": {},
   "outputs": [
    {
     "name": "stdout",
     "output_type": "stream",
     "text": [
      "<class 'pandas.core.frame.DataFrame'>\n",
      "RangeIndex: 132 entries, 0 to 131\n",
      "Data columns (total 10 columns):\n",
      " #   Column           Non-Null Count  Dtype  \n",
      "---  ------           --------------  -----  \n",
      " 0   Title            132 non-null    object \n",
      " 1   Last Name        132 non-null    object \n",
      " 2   First Name       122 non-null    object \n",
      " 3   Location         131 non-null    object \n",
      " 4   Medium           128 non-null    object \n",
      " 5   Type             132 non-null    object \n",
      " 6   Description      87 non-null     object \n",
      " 7   Latitude         132 non-null    float64\n",
      " 8   Longitude        132 non-null    float64\n",
      " 9   Mapped Location  132 non-null    object \n",
      "dtypes: float64(2), object(8)\n",
      "memory usage: 10.4+ KB\n"
     ]
    }
   ],
   "source": [
    "df.info()"
   ]
  },
  {
   "cell_type": "code",
   "execution_count": 14,
   "id": "c827e27e",
   "metadata": {},
   "outputs": [],
   "source": [
    "df.dropna(subset=[\"Description\"], inplace=True)\n",
    "df.dropna(subset=[\"First Name\"], inplace=True)\n",
    "df.dropna(subset=[\"Location\"], inplace=True)"
   ]
  },
  {
   "cell_type": "code",
   "execution_count": 15,
   "id": "4208062a",
   "metadata": {},
   "outputs": [
    {
     "name": "stdout",
     "output_type": "stream",
     "text": [
      "<class 'pandas.core.frame.DataFrame'>\n",
      "Int64Index: 81 entries, 2 to 129\n",
      "Data columns (total 10 columns):\n",
      " #   Column           Non-Null Count  Dtype  \n",
      "---  ------           --------------  -----  \n",
      " 0   Title            81 non-null     object \n",
      " 1   Last Name        81 non-null     object \n",
      " 2   First Name       81 non-null     object \n",
      " 3   Location         81 non-null     object \n",
      " 4   Medium           81 non-null     object \n",
      " 5   Type             81 non-null     object \n",
      " 6   Description      81 non-null     object \n",
      " 7   Latitude         81 non-null     float64\n",
      " 8   Longitude        81 non-null     float64\n",
      " 9   Mapped Location  81 non-null     object \n",
      "dtypes: float64(2), object(8)\n",
      "memory usage: 7.0+ KB\n"
     ]
    }
   ],
   "source": [
    "df.info()"
   ]
  },
  {
   "cell_type": "code",
   "execution_count": 16,
   "id": "96005f11",
   "metadata": {},
   "outputs": [
    {
     "data": {
      "text/html": [
       "<div>\n",
       "<style scoped>\n",
       "    .dataframe tbody tr th:only-of-type {\n",
       "        vertical-align: middle;\n",
       "    }\n",
       "\n",
       "    .dataframe tbody tr th {\n",
       "        vertical-align: top;\n",
       "    }\n",
       "\n",
       "    .dataframe thead th {\n",
       "        text-align: right;\n",
       "    }\n",
       "</style>\n",
       "<table border=\"1\" class=\"dataframe\">\n",
       "  <thead>\n",
       "    <tr style=\"text-align: right;\">\n",
       "      <th></th>\n",
       "      <th>Title</th>\n",
       "      <th>Last Name</th>\n",
       "      <th>First Name</th>\n",
       "      <th>Location</th>\n",
       "      <th>Medium</th>\n",
       "      <th>Type</th>\n",
       "      <th>Description</th>\n",
       "      <th>Latitude</th>\n",
       "      <th>Longitude</th>\n",
       "      <th>Mapped Location</th>\n",
       "    </tr>\n",
       "  </thead>\n",
       "  <tbody>\n",
       "    <tr>\n",
       "      <th>2</th>\n",
       "      <td>12th &amp; Porter Mural</td>\n",
       "      <td>Kennedy</td>\n",
       "      <td>Kim</td>\n",
       "      <td>114 12th Avenue N</td>\n",
       "      <td>Porter all-weather outdoor paint</td>\n",
       "      <td>Mural</td>\n",
       "      <td>Kim Kennedy is a musician and visual artist wh...</td>\n",
       "      <td>36.15790</td>\n",
       "      <td>-86.78817</td>\n",
       "      <td>(36.1579, -86.78817)</td>\n",
       "    </tr>\n",
       "    <tr>\n",
       "      <th>3</th>\n",
       "      <td>A Splash of Color</td>\n",
       "      <td>Stevenson and Stanley and ROFF (Harroff)</td>\n",
       "      <td>Doug and Ronnica and Lynn</td>\n",
       "      <td>616 17th Ave. N.</td>\n",
       "      <td>Steel, brick, wood, and fabric on frostproof c...</td>\n",
       "      <td>Mural</td>\n",
       "      <td>Painted wooden hoop dancer on a twenty foot po...</td>\n",
       "      <td>36.16202</td>\n",
       "      <td>-86.79975</td>\n",
       "      <td>(36.16202, -86.79975)</td>\n",
       "    </tr>\n",
       "    <tr>\n",
       "      <th>4</th>\n",
       "      <td>A Story of Nashville</td>\n",
       "      <td>Ridley</td>\n",
       "      <td>Greg</td>\n",
       "      <td>615 Church Street, Nashville TN</td>\n",
       "      <td>Hammered copper repousse</td>\n",
       "      <td>Frieze</td>\n",
       "      <td>Inside the Grand Reading Room, this is a serie...</td>\n",
       "      <td>36.16215</td>\n",
       "      <td>-86.78205</td>\n",
       "      <td>(36.16215, -86.78205)</td>\n",
       "    </tr>\n",
       "    <tr>\n",
       "      <th>6</th>\n",
       "      <td>Airport Sun Project</td>\n",
       "      <td>Eldred</td>\n",
       "      <td>Dale</td>\n",
       "      <td>1 Terminal Drive, Nashville TN</td>\n",
       "      <td>Light interference and transformation panels</td>\n",
       "      <td>Sculpture</td>\n",
       "      <td>Colorful panels along the truss system and tic...</td>\n",
       "      <td>36.13081</td>\n",
       "      <td>-86.66897</td>\n",
       "      <td>(36.13081, -86.66897)</td>\n",
       "    </tr>\n",
       "    <tr>\n",
       "      <th>7</th>\n",
       "      <td>Andrew Jackson</td>\n",
       "      <td>Mills</td>\n",
       "      <td>Clark</td>\n",
       "      <td>600 Charlotte Avenue, Nashville TN</td>\n",
       "      <td>Bronze sculpture with patina on a Tennessee ma...</td>\n",
       "      <td>Sculpture</td>\n",
       "      <td>A portrait sculpture of Andrew Jackson on a re...</td>\n",
       "      <td>36.16609</td>\n",
       "      <td>-86.78366</td>\n",
       "      <td>(36.16609, -86.78366)</td>\n",
       "    </tr>\n",
       "  </tbody>\n",
       "</table>\n",
       "</div>"
      ],
      "text/plain": [
       "                  Title                                 Last Name  \\\n",
       "2   12th & Porter Mural                                   Kennedy   \n",
       "3     A Splash of Color  Stevenson and Stanley and ROFF (Harroff)   \n",
       "4  A Story of Nashville                                    Ridley   \n",
       "6   Airport Sun Project                                    Eldred   \n",
       "7        Andrew Jackson                                     Mills   \n",
       "\n",
       "                  First Name                            Location  \\\n",
       "2                        Kim                   114 12th Avenue N   \n",
       "3  Doug and Ronnica and Lynn                    616 17th Ave. N.   \n",
       "4                       Greg     615 Church Street, Nashville TN   \n",
       "6                       Dale      1 Terminal Drive, Nashville TN   \n",
       "7                      Clark  600 Charlotte Avenue, Nashville TN   \n",
       "\n",
       "                                              Medium       Type  \\\n",
       "2                   Porter all-weather outdoor paint      Mural   \n",
       "3  Steel, brick, wood, and fabric on frostproof c...      Mural   \n",
       "4                           Hammered copper repousse     Frieze   \n",
       "6       Light interference and transformation panels  Sculpture   \n",
       "7  Bronze sculpture with patina on a Tennessee ma...  Sculpture   \n",
       "\n",
       "                                         Description  Latitude  Longitude  \\\n",
       "2  Kim Kennedy is a musician and visual artist wh...  36.15790  -86.78817   \n",
       "3  Painted wooden hoop dancer on a twenty foot po...  36.16202  -86.79975   \n",
       "4  Inside the Grand Reading Room, this is a serie...  36.16215  -86.78205   \n",
       "6  Colorful panels along the truss system and tic...  36.13081  -86.66897   \n",
       "7  A portrait sculpture of Andrew Jackson on a re...  36.16609  -86.78366   \n",
       "\n",
       "         Mapped Location  \n",
       "2   (36.1579, -86.78817)  \n",
       "3  (36.16202, -86.79975)  \n",
       "4  (36.16215, -86.78205)  \n",
       "6  (36.13081, -86.66897)  \n",
       "7  (36.16609, -86.78366)  "
      ]
     },
     "execution_count": 16,
     "metadata": {},
     "output_type": "execute_result"
    }
   ],
   "source": [
    "df.head()"
   ]
  },
  {
   "cell_type": "code",
   "execution_count": 17,
   "id": "a33678f8",
   "metadata": {},
   "outputs": [],
   "source": [
    "nan_rows = df[df[\"Location\"].isna() | df[\"Location\"].eq(\"\")]"
   ]
  },
  {
   "cell_type": "code",
   "execution_count": 18,
   "id": "8308657c",
   "metadata": {},
   "outputs": [],
   "source": [
    "df.to_csv(\"file.csv\", index=False)"
   ]
  },
  {
   "cell_type": "code",
   "execution_count": 19,
   "id": "93056f73",
   "metadata": {},
   "outputs": [
    {
     "data": {
      "text/plain": [
       "on           31\n",
       "and          21\n",
       "Bronze       19\n",
       "paint        16\n",
       "base         16\n",
       "a            12\n",
       "with         10\n",
       "granite       9\n",
       "Latex         8\n",
       "bronze        8\n",
       "marble        7\n",
       "concrete      7\n",
       "Paint         6\n",
       "metal         6\n",
       "spray         5\n",
       "sculpture     5\n",
       "wall          5\n",
       "Acrylic       5\n",
       "patina        4\n",
       "brick         3\n",
       "Name: Medium, dtype: int64"
      ]
     },
     "execution_count": 19,
     "metadata": {},
     "output_type": "execute_result"
    }
   ],
   "source": [
    "df[\"Medium\"] = df[\"Medium\"].str.split()\n",
    "\n",
    "# Convert the resulting series of lists into a series of words\n",
    "df = df.explode(\"Medium\")\n",
    "\n",
    "# Get the frequency of each word\n",
    "frequencies = df[\"Medium\"].value_counts()\n",
    "\n",
    "# Slice the result to get the top 20 most frequent words\n",
    "top_20_frequent_words = frequencies[:20]\n",
    "top_20_frequent_words"
   ]
  },
  {
   "cell_type": "code",
   "execution_count": 20,
   "id": "66292d50",
   "metadata": {},
   "outputs": [
    {
     "name": "stdout",
     "output_type": "stream",
     "text": [
      "Title\n",
      "Last Name\n",
      "First Name\n",
      "Location\n",
      "Medium\n",
      "Type\n",
      "Description\n",
      "Latitude\n",
      "Longitude\n",
      "Mapped Location\n"
     ]
    }
   ],
   "source": [
    "d = df.to_dict()\n",
    "for item, value in d.items():\n",
    "    print(item)\n",
    "    "
   ]
  },
  {
   "cell_type": "code",
   "execution_count": 21,
   "id": "578ef4d0",
   "metadata": {},
   "outputs": [
    {
     "data": {
      "text/plain": [
       "0     36.157900\n",
       "1     36.162020\n",
       "2     36.162150\n",
       "3     36.130810\n",
       "4     36.166090\n",
       "        ...    \n",
       "76    36.185960\n",
       "77    36.136849\n",
       "78    36.131510\n",
       "79    36.090820\n",
       "80    36.134690\n",
       "Name: Latitude, Length: 81, dtype: float64"
      ]
     },
     "execution_count": 21,
     "metadata": {},
     "output_type": "execute_result"
    }
   ],
   "source": [
    "df = pd.read_csv(\"file.csv\")\n",
    "df[\"Latitude\"]"
   ]
  },
  {
   "cell_type": "code",
   "execution_count": 22,
   "id": "4eb1f4c3",
   "metadata": {},
   "outputs": [
    {
     "data": {
      "image/png": "[encoded data removed]",
      "text/plain": [
       "<Figure size 432x288 with 1 Axes>"
      ]
     },
     "metadata": {
      "needs_background": "light"
     },
     "output_type": "display_data"
    }
   ],
   "source": [
    "import matplotlib.pyplot as plt\n",
    "\n",
    "x = df['Longitude']\n",
    "y = df['Latitude']\n",
    "\n",
    "plt.scatter(x, y)\n",
    "plt.xlabel('Longitude')\n",
    "plt.ylabel('Latitude')\n",
    "plt.title('Geo Location Data')\n",
    "plt.show()"
   ]
  },
  {
   "cell_type": "code",
   "execution_count": 23,
   "id": "f81df027",
   "metadata": {},
   "outputs": [
    {
     "name": "stdout",
     "output_type": "stream",
     "text": [
      "[0, 1, 2, 3, 4, 5, 6, 7, 8, 9, 10, 11, 12, 13, 14, 15, 16, 17, 18, 19, 20, 21, 22, 23, 24, 25, 26, 27, 28, 29, 30, 31, 32, 33, 34, 35, 36, 37, 38, 39, 40, 41, 42, 43, 44, 45, 46, 47, 48, 49, 50, 51, 52, 53, 54, 55, 56, 57, 58, 59, 60, 61, 62, 63, 64, 65, 66, 67, 68, 69, 70, 71, 72, 73, 74, 75, 76, 77, 78, 79, 80]\n"
     ]
    }
   ],
   "source": [
    "import pandas as pd\n",
    "import numpy as np\n",
    "import networkx as nx\n",
    "\n",
    "def haversine_distance(lat1, lon1, lat2, lon2):\n",
    "    \"\"\"\n",
    "    Calculate the great circle distance between two points \n",
    "    on the earth (specified in decimal degrees)\n",
    "    \"\"\"\n",
    "    # convert decimal degrees to radians \n",
    "    lon1, lat1, lon2, lat2 = map(np.radians, [lon1, lat1, lon2, lat2])\n",
    "    # haversine formula \n",
    "    dlon = lon2 - lon1 \n",
    "    dlat = lat2 - lat1 \n",
    "    a = np.sin(dlat/2)**2 + np.cos(lat1) * np.cos(lat2) * np.sin(dlon/2)**2\n",
    "    c = 2 * np.arcsin(np.sqrt(a)) \n",
    "    # Radius of earth in kilometers is 6371\n",
    "    km = 6371* c\n",
    "    # convert to miles\n",
    "    miles = km * 0.621371\n",
    "    return miles\n",
    "\n",
    "def create_location_graph(df, max_distance=3):\n",
    "    \"\"\"\n",
    "    Create a graph of locations using the Haversine formula to calculate the distance between them.\n",
    "    Edges are created between nodes that are within the specified max_distance.\n",
    "    \"\"\"\n",
    "    G = nx.Graph()\n",
    "    for i, row in df.iterrows():\n",
    "        G.add_node(i, lat=row['Latitude'], lon=row['Longitude'])\n",
    "    for i, row1 in df.iterrows():\n",
    "        for j, row2 in df.iterrows():\n",
    "            if i == j:\n",
    "                continue\n",
    "            distance = haversine_distance(row1['Latitude'], row1['Longitude'], row2['Latitude'], row2['Longitude'])\n",
    "            if distance <= max_distance:\n",
    "                G.add_edge(i, j, weight=distance)\n",
    "    return G\n",
    "\n",
    "# Load the data frame\n",
    "df = pd.read_csv(\"file.csv\")\n",
    "\n",
    "# Create the graph\n",
    "G = create_location_graph(df)\n",
    "print(G.nodes)"
   ]
  }
 ],
 "metadata": {
  "kernelspec": {
   "display_name": "Python 3",
   "language": "python",
   "name": "python3"
  },
  "language_info": {
   "codemirror_mode": {
    "name": "ipython",
    "version": 3
   },
   "file_extension": ".py",
   "mimetype": "text/x-python",
   "name": "python",
   "nbconvert_exporter": "python",
   "pygments_lexer": "ipython3",
   "version": "3.8.8"
  }
 },
 "nbformat": 4,
 "nbformat_minor": 5
}
